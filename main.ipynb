{
 "cells": [
  {
   "cell_type": "markdown",
   "id": "a2f1c974",
   "metadata": {},
   "source": [
    "This notebook provides an overview of developing and deploying ML applications using MLRun and GitHub. \n",
    "\n",
    "Tutorial steps:\n",
    "\n",
    "1). Importing MLRun and creating a new project in MLRun\n",
    "2). Configuring Git (user name, user email and create git remotes with a specific branch)\n",
    "3). Developing and logging ML functions and artifacts -\n",
    "    a. Register a dataset artifact in the project for data_fetch function\n",
    "    b. Fetch Data func - register this function object into the project, run locally & remotely\n",
    "    c. Train Model func - register this function object into the project, run locally & remotely\n",
    "    d. Register a model artifact into the project\n",
    "    e. Deployment - build, test, deploy and register model serving function\n",
    "    f. Workflow - register a workflow (that will do steps c, e, f)\n",
    "4). Pushing project context to Git (end of the day)\n",
    "5). Pulling from Git to the project context(start of the day) and repeat from step 3 (if needed)\n",
    "Note: any of the sub-steps in step 3 are optional. Working with Git can also apply on just one of these sub-steps."
   ]
  },
  {
   "cell_type": "code",
   "execution_count": 1,
   "id": "813a4eda",
   "metadata": {},
   "outputs": [],
   "source": [
    "import mlrun"
   ]
  },
  {
   "cell_type": "code",
   "execution_count": 2,
   "id": "0be3c61f",
   "metadata": {},
   "outputs": [
    {
     "name": "stdout",
     "output_type": "stream",
     "text": [
      "Requirement already satisfied: scikit-learn==1.0.2 in /opt/conda/lib/python3.8/site-packages (1.0.2)\n",
      "Requirement already satisfied: joblib>=0.11 in /opt/conda/lib/python3.8/site-packages (from scikit-learn==1.0.2) (1.2.0)\n",
      "Requirement already satisfied: numpy>=1.14.6 in /opt/conda/lib/python3.8/site-packages (from scikit-learn==1.0.2) (1.20.2)\n",
      "Requirement already satisfied: threadpoolctl>=2.0.0 in /opt/conda/lib/python3.8/site-packages (from scikit-learn==1.0.2) (2.1.0)\n",
      "Requirement already satisfied: scipy>=1.1.0 in /opt/conda/lib/python3.8/site-packages (from scikit-learn==1.0.2) (1.6.3)\n",
      "\n",
      "\u001b[1m[\u001b[0m\u001b[34;49mnotice\u001b[0m\u001b[1;39;49m]\u001b[0m\u001b[39;49m A new release of pip available: \u001b[0m\u001b[31;49m22.2.2\u001b[0m\u001b[39;49m -> \u001b[0m\u001b[32;49m23.0.1\u001b[0m\n",
      "\u001b[1m[\u001b[0m\u001b[34;49mnotice\u001b[0m\u001b[1;39;49m]\u001b[0m\u001b[39;49m To update, run: \u001b[0m\u001b[32;49mpip install --upgrade pip\u001b[0m\n"
     ]
    }
   ],
   "source": [
    "# Make sure we have the same version of the scikit-learn on the client as in the server (not needed in MLRun 1.3 or higher)\n",
    "! pip install scikit-learn==1.0.2"
   ]
  },
  {
   "cell_type": "code",
   "execution_count": 3,
   "id": "d795cb36",
   "metadata": {},
   "outputs": [
    {
     "name": "stdout",
     "output_type": "stream",
     "text": [
      "> 2023-03-08 10:07:03,676 [info] Deleting project new-git-project from MLRun DB due to overwrite\n",
      "> 2023-03-08 10:07:06,402 [info] Created and saved project new-git-project: {'from_template': None, 'overwrite': True, 'context': './', 'save': True}\n"
     ]
    }
   ],
   "source": [
    "# Create a new project. The init_git flag is used to initialize git in the context dir (makes a hidden .git directory)\n",
    "project = mlrun.new_project(name='new-git-project',init_git=True,overwrite=True)"
   ]
  },
  {
   "cell_type": "code",
   "execution_count": 4,
   "id": "8ca6ec41",
   "metadata": {},
   "outputs": [
    {
     "name": "stdout",
     "output_type": "stream",
     "text": [
      "kind: project\n",
      "metadata:\n",
      "  name: new-git-project\n",
      "spec:\n",
      "  functions: []\n",
      "  workflows: []\n",
      "  artifacts: []\n",
      "  source: git://github.com/GiladShapira94/test_push.git#refs/heads/master\n",
      "  origin_url: git://github.com/GiladShapira94/test_push.git#refs/heads/master\n",
      "  desired_state: online\n",
      "\n"
     ]
    }
   ],
   "source": [
    "# A Light project YAML looks like\n",
    "print(project.to_yaml())"
   ]
  },
  {
   "cell_type": "markdown",
   "id": "8635b564",
   "metadata": {},
   "source": [
    "If you are using containerized Jupyter you need to first set your Git parameters, using the following commands in MLRun CLI (The last command will not be needed at MLRun 1.3 as it will be part of the  .gitconfig file in the home directory)\n",
    "```\n",
    "git config --global user.email \"<my@email.com>\"\n",
    "git config --global user.name \"<name>\"\n",
    "git config --global credential.helper store\n",
    "```"
   ]
  },
  {
   "cell_type": "code",
   "execution_count": 5,
   "id": "44d09c69",
   "metadata": {},
   "outputs": [],
   "source": [
    "# # Run this only once (before remote origin already exists)\n",
    "# project.create_remote(\"https://github.com/GiladShapira94/test_push.git\")"
   ]
  },
  {
   "cell_type": "code",
   "execution_count": 6,
   "id": "e5a9595e",
   "metadata": {},
   "outputs": [],
   "source": [
    "# Register an artifact in the project, so that it can be further imported on project load  \n",
    "from mlrun.artifacts import DatasetArtifact\n",
    "data_url = 'https://s3.wasabisys.com/iguazio/data/iris/iris.data.raw.csv'\n",
    "# Register an artifact in the project (to be used in workflows) \n",
    "project.set_artifact('data', artifact=DatasetArtifact(),target_path=data_url,tag='v1')    \n",
    "project.register_artifacts() #saves the artifact in MLRun DB"
   ]
  },
  {
   "cell_type": "code",
   "execution_count": 7,
   "id": "be011ae7",
   "metadata": {},
   "outputs": [],
   "source": [
    "data_art = project.get_artifact('data')"
   ]
  },
  {
   "cell_type": "code",
   "execution_count": 8,
   "id": "d510fbc0",
   "metadata": {},
   "outputs": [
    {
     "name": "stdout",
     "output_type": "stream",
     "text": [
      "kind: dataset\n",
      "metadata:\n",
      "  key: data\n",
      "  project: new-git-project\n",
      "  iter: 0\n",
      "  tree: 7cf41317a2fafd12bf2d31b01860acb18ad4f8dc\n",
      "  tag: latest\n",
      "  updated: '2023-03-08T10:07:06.461378+00:00'\n",
      "spec:\n",
      "  target_path: https://s3.wasabisys.com/iguazio/data/iris/iris.data.raw.csv\n",
      "  format: ''\n",
      "  db_key: data\n",
      "  producer:\n",
      "    kind: project\n",
      "    name: new-git-project\n",
      "    tag: 7cf41317a2fafd12bf2d31b01860acb18ad4f8dc\n",
      "  sources: []\n",
      "  license: ''\n",
      "status:\n",
      "  state: created\n",
      "\n"
     ]
    }
   ],
   "source": [
    "print(data_art.to_yaml())"
   ]
  },
  {
   "cell_type": "code",
   "execution_count": 9,
   "id": "f16227f4",
   "metadata": {},
   "outputs": [],
   "source": [
    "# This is how the project YAML looks now\n",
    "# print(project.to_yaml())"
   ]
  },
  {
   "cell_type": "code",
   "execution_count": 10,
   "id": "2f6d41a5",
   "metadata": {},
   "outputs": [
    {
     "name": "stdout",
     "output_type": "stream",
     "text": [
      "Overwriting fetch_data.py\n"
     ]
    }
   ],
   "source": [
    "%%writefile fetch_data.py\n",
    "import mlrun\n",
    "@mlrun.handler(outputs=[\"dataset\",\"label_column\"])\n",
    "def fetch_data(dataset):\n",
    "    \"\"\"\n",
    "    A function which fetches data to MLRun\n",
    "    \"\"\"\n",
    "    df = dataset.as_df()\n",
    "    \n",
    "    return df, \"label\""
   ]
  },
  {
   "cell_type": "code",
   "execution_count": 11,
   "id": "d3a87832",
   "metadata": {},
   "outputs": [
    {
     "data": {
      "text/plain": [
       "<mlrun.projects.project.MlrunProject at 0x7fa645349640>"
      ]
     },
     "execution_count": 11,
     "metadata": {},
     "output_type": "execute_result"
    }
   ],
   "source": [
    "#Create a serverless function object from the code above, and register it in the project\n",
    "fetch_data_fn = project.set_function(\"fetch_data.py\", name=\"fetch_data\", kind=\"job\", image=\"mlrun/mlrun\", handler=\"fetch_data\")\n",
    "project.save()  # save the project with the latest config"
   ]
  },
  {
   "cell_type": "code",
   "execution_count": 12,
   "id": "7c076fcf",
   "metadata": {},
   "outputs": [],
   "source": [
    "# This is how the project YAML looks now\n",
    "# print(project.to_yaml())"
   ]
  },
  {
   "cell_type": "code",
   "execution_count": 13,
   "id": "8c4c7ed9",
   "metadata": {},
   "outputs": [],
   "source": [
    "# First run locally for debugging (Optional step)\n",
    "# fetch_data_run_locally = project.run_function(\"fetch_data\",inputs={'dataset':project.get_artifact('data').uri}, local=True)"
   ]
  },
  {
   "cell_type": "code",
   "execution_count": 14,
   "id": "450a57c7",
   "metadata": {},
   "outputs": [],
   "source": [
    "# fetch_data_run_locally.artifact(\"dataset\").as_df().head()"
   ]
  },
  {
   "cell_type": "code",
   "execution_count": 15,
   "id": "7887c8be",
   "metadata": {},
   "outputs": [
    {
     "name": "stdout",
     "output_type": "stream",
     "text": [
      "> 2023-03-08 10:07:06,887 [warning] it is recommended to use k8s secret (specify secret_name), specifying the aws_access_key/aws_secret_key directly is unsafe\n",
      "> 2023-03-08 10:07:06,904 [info] starting run fetch-data-fetch_data uid=1c2163cf2e6040c6b77ec491345f41d8 DB=http://mlrun-api:8080\n",
      "> 2023-03-08 10:07:07,642 [info] Job is running in the background, pod: fetch-data-fetch-data-q77hx\n",
      "> 2023-03-08 10:07:20,133 [info] To track results use the CLI: {'info_cmd': 'mlrun get run 1c2163cf2e6040c6b77ec491345f41d8 -p new-git-project', 'logs_cmd': 'mlrun logs 1c2163cf2e6040c6b77ec491345f41d8 -p new-git-project'}\n",
      "> 2023-03-08 10:07:20,134 [info] run executed, status=completed\n",
      "final state: completed\n"
     ]
    },
    {
     "data": {
      "text/html": [
       "<style>\n",
       ".dictlist {\n",
       "  background-color: #4EC64B;\n",
       "  text-align: center;\n",
       "  margin: 4px;\n",
       "  border-radius: 3px; padding: 0px 3px 1px 3px; display: inline-block;}\n",
       ".artifact {\n",
       "  cursor: pointer;\n",
       "  background-color: #4EC64B;\n",
       "  text-align: left;\n",
       "  margin: 4px; border-radius: 3px; padding: 0px 3px 1px 3px; display: inline-block;\n",
       "}\n",
       "div.block.hidden {\n",
       "  display: none;\n",
       "}\n",
       ".clickable {\n",
       "  cursor: pointer;\n",
       "}\n",
       ".ellipsis {\n",
       "  display: inline-block;\n",
       "  max-width: 60px;\n",
       "  white-space: nowrap;\n",
       "  overflow: hidden;\n",
       "  text-overflow: ellipsis;\n",
       "}\n",
       ".master-wrapper {\n",
       "  display: flex;\n",
       "  flex-flow: row nowrap;\n",
       "  justify-content: flex-start;\n",
       "  align-items: stretch;\n",
       "}\n",
       ".master-tbl {\n",
       "  flex: 3\n",
       "}\n",
       ".master-wrapper > div {\n",
       "  margin: 4px;\n",
       "  padding: 10px;\n",
       "}\n",
       "iframe.fileview {\n",
       "  border: 0 none;\n",
       "  height: 100%;\n",
       "  width: 100%;\n",
       "  white-space: pre-wrap;\n",
       "}\n",
       ".pane-header-title {\n",
       "  width: 80%;\n",
       "  font-weight: 500;\n",
       "}\n",
       ".pane-header {\n",
       "  line-height: 1;\n",
       "  background-color: #4EC64B;\n",
       "  padding: 3px;\n",
       "}\n",
       ".pane-header .close {\n",
       "  font-size: 20px;\n",
       "  font-weight: 700;\n",
       "  float: right;\n",
       "  margin-top: -5px;\n",
       "}\n",
       ".master-wrapper .right-pane {\n",
       "  border: 1px inset silver;\n",
       "  width: 40%;\n",
       "  min-height: 300px;\n",
       "  flex: 3\n",
       "  min-width: 500px;\n",
       "}\n",
       ".master-wrapper * {\n",
       "  box-sizing: border-box;\n",
       "}\n",
       "</style><script>\n",
       "function copyToClipboard(fld) {\n",
       "    if (document.queryCommandSupported && document.queryCommandSupported('copy')) {\n",
       "        var textarea = document.createElement('textarea');\n",
       "        textarea.textContent = fld.innerHTML;\n",
       "        textarea.style.position = 'fixed';\n",
       "        document.body.appendChild(textarea);\n",
       "        textarea.select();\n",
       "\n",
       "        try {\n",
       "            return document.execCommand('copy'); // Security exception may be thrown by some browsers.\n",
       "        } catch (ex) {\n",
       "\n",
       "        } finally {\n",
       "            document.body.removeChild(textarea);\n",
       "        }\n",
       "    }\n",
       "}\n",
       "function expandPanel(el) {\n",
       "  const panelName = \"#\" + el.getAttribute('paneName');\n",
       "  console.log(el.title);\n",
       "\n",
       "  document.querySelector(panelName + \"-title\").innerHTML = el.title\n",
       "  iframe = document.querySelector(panelName + \"-body\");\n",
       "\n",
       "  const tblcss = `<style> body { font-family: Arial, Helvetica, sans-serif;}\n",
       "    #csv { margin-bottom: 15px; }\n",
       "    #csv table { border-collapse: collapse;}\n",
       "    #csv table td { padding: 4px 8px; border: 1px solid silver;} </style>`;\n",
       "\n",
       "  function csvToHtmlTable(str) {\n",
       "    return '<div id=\"csv\"><table><tr><td>' +  str.replace(/[\\n\\r]+$/g, '').replace(/[\\n\\r]+/g, '</td></tr><tr><td>')\n",
       "      .replace(/,/g, '</td><td>') + '</td></tr></table></div>';\n",
       "  }\n",
       "\n",
       "  function reqListener () {\n",
       "    if (el.title.endsWith(\".csv\")) {\n",
       "      iframe.setAttribute(\"srcdoc\", tblcss + csvToHtmlTable(this.responseText));\n",
       "    } else {\n",
       "      iframe.setAttribute(\"srcdoc\", this.responseText);\n",
       "    }\n",
       "    console.log(this.responseText);\n",
       "  }\n",
       "\n",
       "  const oReq = new XMLHttpRequest();\n",
       "  oReq.addEventListener(\"load\", reqListener);\n",
       "  oReq.open(\"GET\", el.title);\n",
       "  oReq.send();\n",
       "\n",
       "\n",
       "  //iframe.src = el.title;\n",
       "  const resultPane = document.querySelector(panelName + \"-pane\");\n",
       "  if (resultPane.classList.contains(\"hidden\")) {\n",
       "    resultPane.classList.remove(\"hidden\");\n",
       "  }\n",
       "}\n",
       "function closePanel(el) {\n",
       "  const panelName = \"#\" + el.getAttribute('paneName')\n",
       "  const resultPane = document.querySelector(panelName + \"-pane\");\n",
       "  if (!resultPane.classList.contains(\"hidden\")) {\n",
       "    resultPane.classList.add(\"hidden\");\n",
       "  }\n",
       "}\n",
       "\n",
       "</script>\n",
       "<div class=\"master-wrapper\">\n",
       "  <div class=\"block master-tbl\"><div>\n",
       "<style scoped>\n",
       "    .dataframe tbody tr th:only-of-type {\n",
       "        vertical-align: middle;\n",
       "    }\n",
       "\n",
       "    .dataframe tbody tr th {\n",
       "        vertical-align: top;\n",
       "    }\n",
       "\n",
       "    .dataframe thead th {\n",
       "        text-align: right;\n",
       "    }\n",
       "</style>\n",
       "<table border=\"1\" class=\"dataframe\">\n",
       "  <thead>\n",
       "    <tr style=\"text-align: right;\">\n",
       "      <th>project</th>\n",
       "      <th>uid</th>\n",
       "      <th>iter</th>\n",
       "      <th>start</th>\n",
       "      <th>state</th>\n",
       "      <th>name</th>\n",
       "      <th>labels</th>\n",
       "      <th>inputs</th>\n",
       "      <th>parameters</th>\n",
       "      <th>results</th>\n",
       "      <th>artifacts</th>\n",
       "    </tr>\n",
       "  </thead>\n",
       "  <tbody>\n",
       "    <tr>\n",
       "      <td>new-git-project</td>\n",
       "      <td><div title=\"1c2163cf2e6040c6b77ec491345f41d8\"><a href=\"http://192.168.224.227:30060/mlrun/projects/new-git-project/jobs/monitor/1c2163cf2e6040c6b77ec491345f41d8/overview\" target=\"_blank\" >...345f41d8</a></div></td>\n",
       "      <td>0</td>\n",
       "      <td>Mar 08 10:07:16</td>\n",
       "      <td>completed</td>\n",
       "      <td>fetch-data-fetch_data</td>\n",
       "      <td><div class=\"dictlist\">kind=job</div><div class=\"dictlist\">owner=jovyan</div><div class=\"dictlist\">mlrun/client_version=1.2.1-rc10</div><div class=\"dictlist\">host=fetch-data-fetch-data-q77hx</div></td>\n",
       "      <td><div title=\"store://artifacts/new-git-project/data#0:7cf41317a2fafd12bf2d31b01860acb18ad4f8dc\">dataset</div></td>\n",
       "      <td></td>\n",
       "      <td><div class=\"dictlist\">label_column=label</div></td>\n",
       "      <td><div title=\"s3://mlrun/projects/new-git-project/artifacts/fetch-data-fetch_data/0/dataset.parquet\">dataset</div></td>\n",
       "    </tr>\n",
       "  </tbody>\n",
       "</table>\n",
       "</div></div>\n",
       "  <div id=\"resultc50bd610-pane\" class=\"right-pane block hidden\">\n",
       "    <div class=\"pane-header\">\n",
       "      <span id=\"resultc50bd610-title\" class=\"pane-header-title\">Title</span>\n",
       "      <span onclick=\"closePanel(this)\" paneName=\"resultc50bd610\" class=\"close clickable\">&times;</span>\n",
       "    </div>\n",
       "    <iframe class=\"fileview\" id=\"resultc50bd610-body\"></iframe>\n",
       "  </div>\n",
       "</div>\n"
      ],
      "text/plain": [
       "<IPython.core.display.HTML object>"
      ]
     },
     "metadata": {},
     "output_type": "display_data"
    },
    {
     "name": "stdout",
     "output_type": "stream",
     "text": [
      "\n"
     ]
    },
    {
     "data": {
      "text/html": [
       "<b> > to track results use the .show() or .logs() methods  or <a href=\"http://192.168.224.227:30060/mlrun/projects/new-git-project/jobs/monitor/1c2163cf2e6040c6b77ec491345f41d8/overview\" target=\"_blank\">click here</a> to open in UI</b>"
      ],
      "text/plain": [
       "<IPython.core.display.HTML object>"
      ]
     },
     "metadata": {},
     "output_type": "display_data"
    },
    {
     "name": "stdout",
     "output_type": "stream",
     "text": [
      "> 2023-03-08 10:07:27,682 [info] run executed, status=completed\n"
     ]
    }
   ],
   "source": [
    "# Now run remotely \n",
    "fetch_data_run_remotely = project.run_function(\"fetch_data\",inputs={'dataset':project.get_artifact('data').uri})"
   ]
  },
  {
   "cell_type": "code",
   "execution_count": 16,
   "id": "96cc55b9",
   "metadata": {},
   "outputs": [
    {
     "name": "stdout",
     "output_type": "stream",
     "text": [
      "Overwriting trainer.py\n"
     ]
    }
   ],
   "source": [
    "%%writefile trainer.py\n",
    "\n",
    "import pandas as pd\n",
    "import sklearn\n",
    "from sklearn import ensemble\n",
    "from sklearn.model_selection import train_test_split\n",
    "\n",
    "import mlrun\n",
    "from mlrun.frameworks.sklearn import apply_mlrun\n",
    "\n",
    "\n",
    "@mlrun.handler()\n",
    "def train(\n",
    "    dataset: pd.DataFrame,\n",
    "    label_column: str = \"label\",\n",
    "    n_estimators: int = 100,\n",
    "    learning_rate: float = 0.1,\n",
    "    max_depth: int = 3,\n",
    "    model_name: str = \"iris_model\",\n",
    "):\n",
    "    # Initialize the x & y data\n",
    "    x = dataset.drop(label_column, axis=1)\n",
    "    y = dataset[label_column]\n",
    "    # print(sklearn.__version__)\n",
    "    \n",
    "    # Train/Test split the dataset\n",
    "    x_train, x_test, y_train, y_test = train_test_split(\n",
    "        x, y, test_size=0.2, random_state=42\n",
    "    )\n",
    "\n",
    "    # Pick an ideal ML model\n",
    "    model = ensemble.GradientBoostingClassifier(\n",
    "        n_estimators=n_estimators, learning_rate=learning_rate, max_depth=max_depth\n",
    "    )\n",
    "\n",
    "    # -------------------- The only line you need to add for MLOps -------------------------\n",
    "    # Wraps the model with MLOps (test set is provided for analysis & accuracy measurements)\n",
    "    apply_mlrun(model=model, model_name=model_name, x_test=x_test, y_test=y_test)\n",
    "    # --------------------------------------------------------------------------------------\n",
    "\n",
    "    # Train the model\n",
    "    model.fit(x_train, y_train)"
   ]
  },
  {
   "cell_type": "code",
   "execution_count": 17,
   "id": "678cbb85",
   "metadata": {},
   "outputs": [],
   "source": [
    "# The other option is to use the auto_trainer function form the hub:\n",
    "# trainer = project.set_function(func=\"hub://auto_trainer\")"
   ]
  },
  {
   "cell_type": "code",
   "execution_count": 18,
   "id": "061c3fa2",
   "metadata": {},
   "outputs": [],
   "source": [
    "#Create a serverless function object from the code above, and register it in the project\n",
    "trainer = project.set_function(func=\"trainer.py\", name=\"trainer\", kind=\"job\", image=\"mlrun/mlrun\", handler=\"train\")"
   ]
  },
  {
   "cell_type": "code",
   "execution_count": 19,
   "id": "0f30db2f",
   "metadata": {},
   "outputs": [
    {
     "name": "stdout",
     "output_type": "stream",
     "text": [
      "> 2023-03-08 10:07:27,756 [warning] it is recommended to use k8s secret (specify secret_name), specifying the aws_access_key/aws_secret_key directly is unsafe\n",
      "> 2023-03-08 10:07:28,144 [info] starting run trainer-train uid=598a24bb27194a41986d46a0276f4268 DB=http://mlrun-api:8080\n",
      "> 2023-03-08 10:07:28,825 [info] Job is running in the background, pod: trainer-train-2pg4t\n",
      "> 2023-03-08 10:07:41,037 [info] To track results use the CLI: {'info_cmd': 'mlrun get run 598a24bb27194a41986d46a0276f4268 -p new-git-project', 'logs_cmd': 'mlrun logs 598a24bb27194a41986d46a0276f4268 -p new-git-project'}\n",
      "> 2023-03-08 10:07:41,038 [info] run executed, status=completed\n",
      "final state: completed\n"
     ]
    },
    {
     "data": {
      "text/html": [
       "<style>\n",
       ".dictlist {\n",
       "  background-color: #4EC64B;\n",
       "  text-align: center;\n",
       "  margin: 4px;\n",
       "  border-radius: 3px; padding: 0px 3px 1px 3px; display: inline-block;}\n",
       ".artifact {\n",
       "  cursor: pointer;\n",
       "  background-color: #4EC64B;\n",
       "  text-align: left;\n",
       "  margin: 4px; border-radius: 3px; padding: 0px 3px 1px 3px; display: inline-block;\n",
       "}\n",
       "div.block.hidden {\n",
       "  display: none;\n",
       "}\n",
       ".clickable {\n",
       "  cursor: pointer;\n",
       "}\n",
       ".ellipsis {\n",
       "  display: inline-block;\n",
       "  max-width: 60px;\n",
       "  white-space: nowrap;\n",
       "  overflow: hidden;\n",
       "  text-overflow: ellipsis;\n",
       "}\n",
       ".master-wrapper {\n",
       "  display: flex;\n",
       "  flex-flow: row nowrap;\n",
       "  justify-content: flex-start;\n",
       "  align-items: stretch;\n",
       "}\n",
       ".master-tbl {\n",
       "  flex: 3\n",
       "}\n",
       ".master-wrapper > div {\n",
       "  margin: 4px;\n",
       "  padding: 10px;\n",
       "}\n",
       "iframe.fileview {\n",
       "  border: 0 none;\n",
       "  height: 100%;\n",
       "  width: 100%;\n",
       "  white-space: pre-wrap;\n",
       "}\n",
       ".pane-header-title {\n",
       "  width: 80%;\n",
       "  font-weight: 500;\n",
       "}\n",
       ".pane-header {\n",
       "  line-height: 1;\n",
       "  background-color: #4EC64B;\n",
       "  padding: 3px;\n",
       "}\n",
       ".pane-header .close {\n",
       "  font-size: 20px;\n",
       "  font-weight: 700;\n",
       "  float: right;\n",
       "  margin-top: -5px;\n",
       "}\n",
       ".master-wrapper .right-pane {\n",
       "  border: 1px inset silver;\n",
       "  width: 40%;\n",
       "  min-height: 300px;\n",
       "  flex: 3\n",
       "  min-width: 500px;\n",
       "}\n",
       ".master-wrapper * {\n",
       "  box-sizing: border-box;\n",
       "}\n",
       "</style><script>\n",
       "function copyToClipboard(fld) {\n",
       "    if (document.queryCommandSupported && document.queryCommandSupported('copy')) {\n",
       "        var textarea = document.createElement('textarea');\n",
       "        textarea.textContent = fld.innerHTML;\n",
       "        textarea.style.position = 'fixed';\n",
       "        document.body.appendChild(textarea);\n",
       "        textarea.select();\n",
       "\n",
       "        try {\n",
       "            return document.execCommand('copy'); // Security exception may be thrown by some browsers.\n",
       "        } catch (ex) {\n",
       "\n",
       "        } finally {\n",
       "            document.body.removeChild(textarea);\n",
       "        }\n",
       "    }\n",
       "}\n",
       "function expandPanel(el) {\n",
       "  const panelName = \"#\" + el.getAttribute('paneName');\n",
       "  console.log(el.title);\n",
       "\n",
       "  document.querySelector(panelName + \"-title\").innerHTML = el.title\n",
       "  iframe = document.querySelector(panelName + \"-body\");\n",
       "\n",
       "  const tblcss = `<style> body { font-family: Arial, Helvetica, sans-serif;}\n",
       "    #csv { margin-bottom: 15px; }\n",
       "    #csv table { border-collapse: collapse;}\n",
       "    #csv table td { padding: 4px 8px; border: 1px solid silver;} </style>`;\n",
       "\n",
       "  function csvToHtmlTable(str) {\n",
       "    return '<div id=\"csv\"><table><tr><td>' +  str.replace(/[\\n\\r]+$/g, '').replace(/[\\n\\r]+/g, '</td></tr><tr><td>')\n",
       "      .replace(/,/g, '</td><td>') + '</td></tr></table></div>';\n",
       "  }\n",
       "\n",
       "  function reqListener () {\n",
       "    if (el.title.endsWith(\".csv\")) {\n",
       "      iframe.setAttribute(\"srcdoc\", tblcss + csvToHtmlTable(this.responseText));\n",
       "    } else {\n",
       "      iframe.setAttribute(\"srcdoc\", this.responseText);\n",
       "    }\n",
       "    console.log(this.responseText);\n",
       "  }\n",
       "\n",
       "  const oReq = new XMLHttpRequest();\n",
       "  oReq.addEventListener(\"load\", reqListener);\n",
       "  oReq.open(\"GET\", el.title);\n",
       "  oReq.send();\n",
       "\n",
       "\n",
       "  //iframe.src = el.title;\n",
       "  const resultPane = document.querySelector(panelName + \"-pane\");\n",
       "  if (resultPane.classList.contains(\"hidden\")) {\n",
       "    resultPane.classList.remove(\"hidden\");\n",
       "  }\n",
       "}\n",
       "function closePanel(el) {\n",
       "  const panelName = \"#\" + el.getAttribute('paneName')\n",
       "  const resultPane = document.querySelector(panelName + \"-pane\");\n",
       "  if (!resultPane.classList.contains(\"hidden\")) {\n",
       "    resultPane.classList.add(\"hidden\");\n",
       "  }\n",
       "}\n",
       "\n",
       "</script>\n",
       "<div class=\"master-wrapper\">\n",
       "  <div class=\"block master-tbl\"><div>\n",
       "<style scoped>\n",
       "    .dataframe tbody tr th:only-of-type {\n",
       "        vertical-align: middle;\n",
       "    }\n",
       "\n",
       "    .dataframe tbody tr th {\n",
       "        vertical-align: top;\n",
       "    }\n",
       "\n",
       "    .dataframe thead th {\n",
       "        text-align: right;\n",
       "    }\n",
       "</style>\n",
       "<table border=\"1\" class=\"dataframe\">\n",
       "  <thead>\n",
       "    <tr style=\"text-align: right;\">\n",
       "      <th>project</th>\n",
       "      <th>uid</th>\n",
       "      <th>iter</th>\n",
       "      <th>start</th>\n",
       "      <th>state</th>\n",
       "      <th>name</th>\n",
       "      <th>labels</th>\n",
       "      <th>inputs</th>\n",
       "      <th>parameters</th>\n",
       "      <th>results</th>\n",
       "      <th>artifacts</th>\n",
       "    </tr>\n",
       "  </thead>\n",
       "  <tbody>\n",
       "    <tr>\n",
       "      <td>new-git-project</td>\n",
       "      <td><div title=\"598a24bb27194a41986d46a0276f4268\"><a href=\"http://192.168.224.227:30060/mlrun/projects/new-git-project/jobs/monitor/598a24bb27194a41986d46a0276f4268/overview\" target=\"_blank\" >...276f4268</a></div></td>\n",
       "      <td>0</td>\n",
       "      <td>Mar 08 10:07:36</td>\n",
       "      <td>completed</td>\n",
       "      <td>trainer-train</td>\n",
       "      <td><div class=\"dictlist\">kind=job</div><div class=\"dictlist\">owner=jovyan</div><div class=\"dictlist\">mlrun/client_version=1.2.1-rc10</div><div class=\"dictlist\">host=trainer-train-2pg4t</div></td>\n",
       "      <td><div title=\"store://artifacts/new-git-project/fetch-data-fetch_data_dataset:1c2163cf2e6040c6b77ec491345f41d8\">dataset</div></td>\n",
       "      <td><div class=\"dictlist\">model_class=sklearn.ensemble.RandomForestClassifier</div><div class=\"dictlist\">train_test_split_size=0.2</div><div class=\"dictlist\">label_columns=label</div><div class=\"dictlist\">model_name=iris_model</div></td>\n",
       "      <td><div class=\"dictlist\">accuracy=1.0</div><div class=\"dictlist\">f1_score=1.0</div><div class=\"dictlist\">precision_score=1.0</div><div class=\"dictlist\">recall_score=1.0</div><div class=\"dictlist\">auc-micro=1.0</div><div class=\"dictlist\">auc-macro=1.0</div><div class=\"dictlist\">auc-weighted=1.0</div></td>\n",
       "      <td><div title=\"s3://mlrun/projects/new-git-project/artifacts/trainer-train/0/feature-importance.html\">feature-importance</div><div title=\"s3://mlrun/projects/new-git-project/artifacts/trainer-train/0/test_set.parquet\">test_set</div><div title=\"s3://mlrun/projects/new-git-project/artifacts/trainer-train/0/confusion-matrix.html\">confusion-matrix</div><div title=\"s3://mlrun/projects/new-git-project/artifacts/trainer-train/0/roc-curves.html\">roc-curves</div><div title=\"s3://mlrun/projects/new-git-project/artifacts/trainer-train/0/model/\">model</div></td>\n",
       "    </tr>\n",
       "  </tbody>\n",
       "</table>\n",
       "</div></div>\n",
       "  <div id=\"resultb6762e89-pane\" class=\"right-pane block hidden\">\n",
       "    <div class=\"pane-header\">\n",
       "      <span id=\"resultb6762e89-title\" class=\"pane-header-title\">Title</span>\n",
       "      <span onclick=\"closePanel(this)\" paneName=\"resultb6762e89\" class=\"close clickable\">&times;</span>\n",
       "    </div>\n",
       "    <iframe class=\"fileview\" id=\"resultb6762e89-body\"></iframe>\n",
       "  </div>\n",
       "</div>\n"
      ],
      "text/plain": [
       "<IPython.core.display.HTML object>"
      ]
     },
     "metadata": {},
     "output_type": "display_data"
    },
    {
     "name": "stdout",
     "output_type": "stream",
     "text": [
      "\n"
     ]
    },
    {
     "data": {
      "text/html": [
       "<b> > to track results use the .show() or .logs() methods  or <a href=\"http://192.168.224.227:30060/mlrun/projects/new-git-project/jobs/monitor/598a24bb27194a41986d46a0276f4268/overview\" target=\"_blank\">click here</a> to open in UI</b>"
      ],
      "text/plain": [
       "<IPython.core.display.HTML object>"
      ]
     },
     "metadata": {},
     "output_type": "display_data"
    },
    {
     "name": "stdout",
     "output_type": "stream",
     "text": [
      "> 2023-03-08 10:07:48,892 [info] run executed, status=completed\n"
     ]
    }
   ],
   "source": [
    "#Run the function on the remote cluster (you can also run it locally at first by mentioning - local=True)\n",
    "trainer_run = project.run_function(\"trainer\",\n",
    "        inputs={\"dataset\": fetch_data_run_remotely.outputs[\"dataset\"]},\n",
    "        params = {\n",
    "            \"model_class\": \"sklearn.ensemble.RandomForestClassifier\",\n",
    "            \"train_test_split_size\": 0.2,\n",
    "            \"label_columns\": \"label\",\n",
    "            \"model_name\":'iris_model'}, handler='train')"
   ]
  },
  {
   "cell_type": "code",
   "execution_count": 20,
   "id": "c1fbbea5",
   "metadata": {},
   "outputs": [],
   "source": [
    "# Results (metrics) and artifacts are generated and tracked automatically by MLRun\n",
    "# trainer_run.artifact('confusion-matrix').show()"
   ]
  },
  {
   "cell_type": "code",
   "execution_count": 21,
   "id": "b28eb114",
   "metadata": {},
   "outputs": [],
   "source": [
    "# Register a model artifact in the project, so that it can be further imported on project load\n",
    "from mlrun.artifacts import ModelArtifact\n",
    "project.set_artifact('model', ModelArtifact(model_file=\"iris_model.pkl\"), target_path='s3://mlrun/projects/new-git-proj/artifacts/trainer-train/0/model/')"
   ]
  },
  {
   "cell_type": "code",
   "execution_count": 22,
   "id": "8d4bd3b1",
   "metadata": {},
   "outputs": [],
   "source": [
    "#Create a model serving function\n",
    "serving_fn = mlrun.new_function(\"serving\", image=\"python:3.8\", kind=\"serving\", requirements=[\"mlrun[complete]\", \"scikit-learn==1.0.2\"])\n"
   ]
  },
  {
   "cell_type": "code",
   "execution_count": 23,
   "id": "177cae5a",
   "metadata": {},
   "outputs": [
    {
     "data": {
      "text/plain": [
       "{'accuracy': 1.0,\n",
       " 'f1_score': 1.0,\n",
       " 'precision_score': 1.0,\n",
       " 'recall_score': 1.0,\n",
       " 'auc-micro': 1.0,\n",
       " 'auc-macro': 1.0,\n",
       " 'auc-weighted': 1.0,\n",
       " 'feature-importance': 's3://mlrun/projects/new-git-project/artifacts/trainer-train/0/feature-importance.html',\n",
       " 'test_set': 'store://artifacts/new-git-project/trainer-train_test_set:598a24bb27194a41986d46a0276f4268',\n",
       " 'confusion-matrix': 's3://mlrun/projects/new-git-project/artifacts/trainer-train/0/confusion-matrix.html',\n",
       " 'roc-curves': 's3://mlrun/projects/new-git-project/artifacts/trainer-train/0/roc-curves.html',\n",
       " 'model': 'store://artifacts/new-git-project/iris_model:598a24bb27194a41986d46a0276f4268'}"
      ]
     },
     "execution_count": 23,
     "metadata": {},
     "output_type": "execute_result"
    }
   ],
   "source": [
    "trainer_run.outputs"
   ]
  },
  {
   "cell_type": "code",
   "execution_count": 24,
   "id": "984cc1fc",
   "metadata": {},
   "outputs": [
    {
     "data": {
      "text/plain": [
       "<mlrun.serving.states.TaskStep at 0x7fa63c8c7640>"
      ]
     },
     "execution_count": 24,
     "metadata": {},
     "output_type": "execute_result"
    }
   ],
   "source": [
    "#Add a model to the serving function\n",
    "serving_fn.add_model('iris_model',model_path=trainer_run.outputs[\"model\"], class_name='mlrun.frameworks.sklearn.SklearnModelServer')\n"
   ]
  },
  {
   "cell_type": "code",
   "execution_count": 25,
   "id": "22d7d096",
   "metadata": {},
   "outputs": [
    {
     "name": "stdout",
     "output_type": "stream",
     "text": [
      "> 2023-03-08 10:07:48,974 [warning] run command, file or code were not specified\n",
      "> 2023-03-08 10:07:50,176 [info] model iris_model was loaded\n",
      "> 2023-03-08 10:07:50,177 [info] Loaded ['iris_model']\n"
     ]
    }
   ],
   "source": [
    "# Simulating the model server locally\n",
    "server = serving_fn.to_mock_server()"
   ]
  },
  {
   "cell_type": "code",
   "execution_count": 26,
   "id": "288c78ee",
   "metadata": {},
   "outputs": [],
   "source": [
    "#Test the mock model server endpoint\n",
    "# server.test(\"/v2/models/\", method=\"GET\")"
   ]
  },
  {
   "cell_type": "code",
   "execution_count": 27,
   "id": "662c8999",
   "metadata": {},
   "outputs": [
    {
     "name": "stderr",
     "output_type": "stream",
     "text": [
      "X does not have valid feature names, but GradientBoostingClassifier was fitted with feature names\n"
     ]
    },
    {
     "data": {
      "text/plain": [
       "{'id': 'ef988d1be03c45ce8828390810cfbc66',\n",
       " 'model_name': 'iris_model',\n",
       " 'outputs': ['Iris-setosa']}"
      ]
     },
     "execution_count": 27,
     "metadata": {},
     "output_type": "execute_result"
    }
   ],
   "source": [
    "# Infer using test data\n",
    "my_data = {\"inputs\"\n",
    "           :[[\n",
    "               5,3,1.5,0.2]\n",
    "            ]\n",
    "}\n",
    "server.test(\"/\", body=my_data)"
   ]
  },
  {
   "cell_type": "markdown",
   "id": "23d54727",
   "metadata": {},
   "source": [
    "Deploy a real-time serving function (over K8S or Docker). This requires Nuclio to be installed (over K8S or Docker).\n",
    "Use the mlrun deploy_function() method to build and deploy a Nuclio serving function from your serving-function code\n",
    "Use the mlrun deploy_function() method to build and deploy a Nuclio serving function from your serving-function code"
   ]
  },
  {
   "cell_type": "code",
   "execution_count": 28,
   "id": "1a52d517",
   "metadata": {},
   "outputs": [
    {
     "name": "stdout",
     "output_type": "stream",
     "text": [
      "> 2023-03-08 10:07:50,210 [warning] it is recommended to use k8s secret (specify secret_name), specifying the aws_access_key/aws_secret_key directly is unsafe\n",
      "> 2023-03-08 10:07:50,212 [info] Starting remote function deploy\n",
      "2023-03-08 10:07:50  (info) Deploying function\n",
      "2023-03-08 10:07:50  (info) Building\n",
      "2023-03-08 10:07:51  (info) Staging files and preparing base images\n",
      "2023-03-08 10:07:51  (info) Building processor image\n",
      "2023-03-08 10:09:17  (info) Build complete\n",
      "2023-03-08 10:09:32  (info) Function deploy complete\n",
      "> 2023-03-08 10:09:32,994 [info] successfully deployed function: {'internal_invocation_urls': ['nuclio-new-git-project-serving.mlrun.svc.cluster.local:8080'], 'external_invocation_urls': ['192.168.224.227:31410']}\n"
     ]
    },
    {
     "data": {
      "text/plain": [
       "DeployStatus(state=ready, outputs={'endpoint': 'http://192.168.224.227:31410', 'name': 'new-git-project-serving'})"
      ]
     },
     "execution_count": 28,
     "metadata": {},
     "output_type": "execute_result"
    }
   ],
   "source": [
    "project.deploy_function(serving_fn)"
   ]
  },
  {
   "cell_type": "code",
   "execution_count": 29,
   "id": "c2bec4e9",
   "metadata": {},
   "outputs": [
    {
     "name": "stdout",
     "output_type": "stream",
     "text": [
      "> 2023-03-08 10:09:33,055 [info] invoking function: {'method': 'POST', 'path': 'http://nuclio-new-git-project-serving.mlrun.svc.cluster.local:8080/'}\n"
     ]
    },
    {
     "data": {
      "text/plain": [
       "{'id': 'af0aff20-cf5f-4d6f-86cd-c7df01c9ee0a',\n",
       " 'model_name': 'iris_model',\n",
       " 'outputs': ['Iris-setosa']}"
      ]
     },
     "execution_count": 29,
     "metadata": {},
     "output_type": "execute_result"
    }
   ],
   "source": [
    "# Test the live endpoint\n",
    "serving_fn.invoke(\"/\", body=my_data)"
   ]
  },
  {
   "cell_type": "code",
   "execution_count": 30,
   "id": "2529aa87",
   "metadata": {},
   "outputs": [
    {
     "name": "stdout",
     "output_type": "stream",
     "text": [
      "> 2023-03-08 10:09:33,077 [info] function spec saved to path: serving.yaml\n"
     ]
    },
    {
     "data": {
      "text/plain": [
       "<mlrun.runtimes.serving.ServingRuntime at 0x7fa5fdc91760>"
      ]
     },
     "execution_count": 30,
     "metadata": {},
     "output_type": "execute_result"
    }
   ],
   "source": [
    "# Before registering the serving function in the project (so that it can be further loaded from git) we first exporting\n",
    "# its YAML, so that project YAML will look more compact (otherwise it will include the whole YAML of the serving function)\n",
    "serving_fn.export('serving.yaml')\n",
    "project.set_function(func='serving.yaml',name='serving',kind='serving')"
   ]
  },
  {
   "cell_type": "markdown",
   "id": "fb66fde8",
   "metadata": {},
   "source": [
    "For setting a nuclio function you can see the example below:\n",
    "```\n",
    "project.set_function(func='nuclio.py',name='nuclio',handler='multi:multi_3',kind='nuclio',image='mlrun/mlrun')\n",
    "Or\n",
    "project.set_function(name='nuclio',handler='multi:multi_3',kind='nuclio',image='mlrun/mlrun',with_repo=True)\n",
    "```"
   ]
  },
  {
   "cell_type": "code",
   "execution_count": 31,
   "id": "8a0a30c4",
   "metadata": {},
   "outputs": [],
   "source": [
    "# Here is how the project YAML looks now\n",
    "# print(project.to_yaml())"
   ]
  },
  {
   "cell_type": "markdown",
   "id": "063b7c7d",
   "metadata": {},
   "source": [
    "Build and run automated ML pipelines and CI/CD\n",
    "\n",
    "A pipeline is created by running an MLRun “workflow”. The following code defines a workflow and \n",
    "writes it to a file in your local directory, with the file name workflow.py. The workflow describes\n",
    "a directed acyclic graph (DAG) which is executed using the local, remote, or kubeflow engines.\n",
    "\n",
    "See \"running a multi-stage workflow\". The defined pipeline includes the following steps:\n",
    "Generate/prepare the data (fetch).\n",
    "Train and the model (train).\n",
    "Deploy the model as a real-time serverless function (serving)."
   ]
  },
  {
   "cell_type": "code",
   "execution_count": 32,
   "id": "3a9a2b29",
   "metadata": {},
   "outputs": [
    {
     "name": "stdout",
     "output_type": "stream",
     "text": [
      "Overwriting ./workflow.py\n"
     ]
    }
   ],
   "source": [
    "%%writefile './workflow.py'\n",
    "\n",
    "from kfp import dsl\n",
    "import mlrun\n",
    "\n",
    "# Create a Kubeflow Pipelines pipeline\n",
    "@dsl.pipeline(name=\"iris-git-demo\")\n",
    "def pipeline(dataset_uri,model_name=\"iris_model\"):\n",
    "    # Run the ingestion function with the new image and params\n",
    "    ingest = mlrun.run_function(inputs={'dataset':dataset_uri},\n",
    "        function=\"fetch_data\",\n",
    "        outputs=[\"dataset\"], \n",
    "    )\n",
    "\n",
    "    # Train a model using the trainer function\n",
    "    train = mlrun.run_function(\n",
    "        \"trainer\",\n",
    "        inputs={\"dataset\": ingest.outputs[\"dataset\"]},\n",
    "        params = {\n",
    "            \"model_class\": \"sklearn.ensemble.RandomForestClassifier\",\n",
    "            \"train_test_split_size\": 0.2,\n",
    "            \"label_columns\": \"label\",\n",
    "            \"model_name\": model_name,\n",
    "        }, \n",
    "        handler='train',\n",
    "        outputs=[\"model\"],\n",
    "    )\n",
    "\n",
    "    # Deploy the trained model as a serverless function\n",
    "    mlrun.deploy_function(\n",
    "        \"serving\",\n",
    "        models=[\n",
    "            {\n",
    "                \"key\": model_name,\n",
    "                \"model_path\": train.outputs[\"model\"],\n",
    "                \"class_name\": 'mlrun.frameworks.sklearn.SklearnModelServer',\n",
    "            }\n",
    "        ],\n",
    "    )"
   ]
  },
  {
   "cell_type": "code",
   "execution_count": 33,
   "id": "710e8fe6",
   "metadata": {},
   "outputs": [],
   "source": [
    "# Add a multi-stage workflow (./workflow.py) to the project with the name 'main' and save the project \n",
    "my_workflow = project.set_workflow('main', \"./workflow.py\")"
   ]
  },
  {
   "cell_type": "code",
   "execution_count": 34,
   "id": "a182bf62",
   "metadata": {},
   "outputs": [
    {
     "data": {
      "text/html": [
       "<div>Pipeline running (id=2797ec77-42a2-4dfc-9c00-f9561e3d6ae2), <a href=\"http://192.168.224.227:30060/mlrun/projects/new-git-project/jobs/monitor-workflows/workflow/2797ec77-42a2-4dfc-9c00-f9561e3d6ae2\" target=\"_blank\"><b>click here</b></a> to view the details in MLRun UI</div>"
      ],
      "text/plain": [
       "<IPython.core.display.HTML object>"
      ]
     },
     "metadata": {},
     "output_type": "display_data"
    },
    {
     "data": {
      "image/svg+xml": [
       "<?xml version=\"1.0\" encoding=\"UTF-8\" standalone=\"no\"?>\n",
       "<!DOCTYPE svg PUBLIC \"-//W3C//DTD SVG 1.1//EN\"\n",
       " \"http://www.w3.org/Graphics/SVG/1.1/DTD/svg11.dtd\">\n",
       "<!-- Generated by graphviz version 2.43.0 (0)\n",
       " -->\n",
       "<!-- Title: kfp Pages: 1 -->\n",
       "<svg width=\"113pt\" height=\"188pt\"\n",
       " viewBox=\"0.00 0.00 113.29 188.00\" xmlns=\"http://www.w3.org/2000/svg\" xmlns:xlink=\"http://www.w3.org/1999/xlink\">\n",
       "<g id=\"graph0\" class=\"graph\" transform=\"scale(1 1) rotate(0) translate(4 184)\">\n",
       "<title>kfp</title>\n",
       "<polygon fill=\"white\" stroke=\"transparent\" points=\"-4,4 -4,-184 109.29,-184 109.29,4 -4,4\"/>\n",
       "<!-- iris&#45;git&#45;demo&#45;njz4l&#45;2315158230 -->\n",
       "<g id=\"node1\" class=\"node\">\n",
       "<title>iris&#45;git&#45;demo&#45;njz4l&#45;2315158230</title>\n",
       "<ellipse fill=\"green\" stroke=\"black\" cx=\"52.65\" cy=\"-90\" rx=\"52.79\" ry=\"18\"/>\n",
       "<text text-anchor=\"middle\" x=\"52.65\" y=\"-86.3\" font-family=\"Times,serif\" font-size=\"14.00\">trainer&#45;train</text>\n",
       "</g>\n",
       "<!-- iris&#45;git&#45;demo&#45;njz4l&#45;2560735746 -->\n",
       "<g id=\"node2\" class=\"node\">\n",
       "<title>iris&#45;git&#45;demo&#45;njz4l&#45;2560735746</title>\n",
       "<polygon fill=\"green\" stroke=\"black\" points=\"101.65,-36 7.65,-36 3.65,-32 3.65,0 97.65,0 101.65,-4 101.65,-36\"/>\n",
       "<polyline fill=\"none\" stroke=\"black\" points=\"97.65,-32 3.65,-32 \"/>\n",
       "<polyline fill=\"none\" stroke=\"black\" points=\"97.65,-32 97.65,0 \"/>\n",
       "<polyline fill=\"none\" stroke=\"black\" points=\"97.65,-32 101.65,-36 \"/>\n",
       "<text text-anchor=\"middle\" x=\"52.65\" y=\"-14.3\" font-family=\"Times,serif\" font-size=\"14.00\">deploy&#45;serving</text>\n",
       "</g>\n",
       "<!-- iris&#45;git&#45;demo&#45;njz4l&#45;2315158230&#45;&gt;iris&#45;git&#45;demo&#45;njz4l&#45;2560735746 -->\n",
       "<g id=\"edge1\" class=\"edge\">\n",
       "<title>iris&#45;git&#45;demo&#45;njz4l&#45;2315158230&#45;&gt;iris&#45;git&#45;demo&#45;njz4l&#45;2560735746</title>\n",
       "<path fill=\"none\" stroke=\"black\" d=\"M52.65,-71.7C52.65,-63.98 52.65,-54.71 52.65,-46.11\"/>\n",
       "<polygon fill=\"black\" stroke=\"black\" points=\"56.15,-46.1 52.65,-36.1 49.15,-46.1 56.15,-46.1\"/>\n",
       "</g>\n",
       "<!-- iris&#45;git&#45;demo&#45;njz4l&#45;4066181643 -->\n",
       "<g id=\"node3\" class=\"node\">\n",
       "<title>iris&#45;git&#45;demo&#45;njz4l&#45;4066181643</title>\n",
       "<ellipse fill=\"green\" stroke=\"black\" cx=\"52.65\" cy=\"-162\" rx=\"46.29\" ry=\"18\"/>\n",
       "<text text-anchor=\"middle\" x=\"52.65\" y=\"-158.3\" font-family=\"Times,serif\" font-size=\"14.00\">fetch&#45;data</text>\n",
       "</g>\n",
       "<!-- iris&#45;git&#45;demo&#45;njz4l&#45;4066181643&#45;&gt;iris&#45;git&#45;demo&#45;njz4l&#45;2315158230 -->\n",
       "<g id=\"edge2\" class=\"edge\">\n",
       "<title>iris&#45;git&#45;demo&#45;njz4l&#45;4066181643&#45;&gt;iris&#45;git&#45;demo&#45;njz4l&#45;2315158230</title>\n",
       "<path fill=\"none\" stroke=\"black\" d=\"M52.65,-143.7C52.65,-135.98 52.65,-126.71 52.65,-118.11\"/>\n",
       "<polygon fill=\"black\" stroke=\"black\" points=\"56.15,-118.1 52.65,-108.1 49.15,-118.1 56.15,-118.1\"/>\n",
       "</g>\n",
       "</g>\n",
       "</svg>\n"
      ],
      "text/plain": [
       "<graphviz.dot.Digraph at 0x7fa5fd9e4f40>"
      ]
     },
     "metadata": {},
     "output_type": "display_data"
    },
    {
     "data": {
      "text/html": [
       "<h2>Run Results</h2><h3>[info] Workflow 2797ec77-42a2-4dfc-9c00-f9561e3d6ae2 finished, state=Succeeded</h3><br>click the hyper links below to see detailed results<br><table border=\"1\" class=\"dataframe\">\n",
       "  <thead>\n",
       "    <tr style=\"text-align: right;\">\n",
       "      <th>uid</th>\n",
       "      <th>start</th>\n",
       "      <th>state</th>\n",
       "      <th>name</th>\n",
       "      <th>parameters</th>\n",
       "      <th>results</th>\n",
       "    </tr>\n",
       "  </thead>\n",
       "  <tbody>\n",
       "    <tr>\n",
       "      <td><div title=\"235f6b8782a64306af55aa3b339b583a\"><a href=\"http://192.168.224.227:30060/mlrun/projects/new-git-project/jobs/monitor/235f6b8782a64306af55aa3b339b583a/overview\" target=\"_blank\" >...339b583a</a></div></td>\n",
       "      <td>Mar 08 10:10:41</td>\n",
       "      <td>completed</td>\n",
       "      <td>trainer-train</td>\n",
       "      <td><div class=\"dictlist\">model_class=sklearn.ensemble.RandomForestClassifier</div><div class=\"dictlist\">train_test_split_size=0.2</div><div class=\"dictlist\">label_columns=label</div><div class=\"dictlist\">model_name=iris_model</div></td>\n",
       "      <td><div class=\"dictlist\">accuracy=1.0</div><div class=\"dictlist\">f1_score=1.0</div><div class=\"dictlist\">precision_score=1.0</div><div class=\"dictlist\">recall_score=1.0</div><div class=\"dictlist\">auc-micro=1.0</div><div class=\"dictlist\">auc-macro=1.0</div><div class=\"dictlist\">auc-weighted=1.0</div></td>\n",
       "    </tr>\n",
       "    <tr>\n",
       "      <td><div title=\"dc858198494546d59bc4f909e5b9247a\"><a href=\"http://192.168.224.227:30060/mlrun/projects/new-git-project/jobs/monitor/dc858198494546d59bc4f909e5b9247a/overview\" target=\"_blank\" >...e5b9247a</a></div></td>\n",
       "      <td>Mar 08 10:09:56</td>\n",
       "      <td>completed</td>\n",
       "      <td>fetch-data</td>\n",
       "      <td></td>\n",
       "      <td><div class=\"dictlist\">label_column=label</div></td>\n",
       "    </tr>\n",
       "  </tbody>\n",
       "</table>"
      ],
      "text/plain": [
       "<IPython.core.display.HTML object>"
      ]
     },
     "metadata": {},
     "output_type": "display_data"
    }
   ],
   "source": [
    "# Run the workflow\n",
    "run_id = project.run(\n",
    "    #workflow_path=\"./workflow.py\",\n",
    "    name = 'main',\n",
    "    arguments={'dataset_uri':project.get_artifact('data').uri}, \n",
    "    watch=True)"
   ]
  },
  {
   "cell_type": "code",
   "execution_count": 35,
   "id": "7f63b4aa",
   "metadata": {},
   "outputs": [
    {
     "name": "stdout",
     "output_type": "stream",
     "text": [
      "kind: project\n",
      "metadata:\n",
      "  name: new-git-project\n",
      "spec:\n",
      "  functions:\n",
      "  - url: fetch_data.py\n",
      "    name: fetch_data\n",
      "    kind: job\n",
      "    image: mlrun/mlrun\n",
      "    handler: fetch_data\n",
      "  - url: trainer.py\n",
      "    name: trainer\n",
      "    kind: job\n",
      "    image: mlrun/mlrun\n",
      "    handler: train\n",
      "  - url: serving.yaml\n",
      "    name: serving\n",
      "    kind: serving\n",
      "  workflows:\n",
      "  - path: ./workflow.py\n",
      "    name: main\n",
      "  artifacts:\n",
      "  - kind: dataset\n",
      "    metadata:\n",
      "      project: new-git-project\n",
      "      tag: v1\n",
      "      key: data\n",
      "    spec:\n",
      "      target_path: https://s3.wasabisys.com/iguazio/data/iris/iris.data.raw.csv\n",
      "      format: ''\n",
      "    status:\n",
      "      state: created\n",
      "  - kind: model\n",
      "    metadata:\n",
      "      project: new-git-project\n",
      "      key: model\n",
      "    spec:\n",
      "      target_path: s3://mlrun/projects/new-git-proj/artifacts/trainer-train/0/model/\n",
      "      model_file: iris_model.pkl\n",
      "    status:\n",
      "      state: created\n",
      "  source: git://github.com/GiladShapira94/test_push.git#refs/heads/master\n",
      "  origin_url: git://github.com/GiladShapira94/test_push.git#refs/heads/master\n",
      "  desired_state: online\n",
      "\n"
     ]
    }
   ],
   "source": [
    "# Here is how project YAML looks now\n",
    "print(project.to_yaml())"
   ]
  },
  {
   "cell_type": "code",
   "execution_count": 36,
   "id": "e77e921b",
   "metadata": {},
   "outputs": [],
   "source": [
    "# # Pull the latest code from git (important if remote changed)\n",
    "# project.pull(\"master\")"
   ]
  },
  {
   "cell_type": "code",
   "execution_count": 37,
   "id": "9ec0cc69",
   "metadata": {},
   "outputs": [
    {
     "ename": "GitCommandError",
     "evalue": "Cmd('git') failed due to: exit code(128)\n  cmdline: git push origin master\n  stderr: 'remote: Permission to GiladShapira94/test_push.git denied to yevgenykhazan.\nfatal: unable to access 'https://github.com/GiladShapira94/test_push.git/': The requested URL returned error: 403'",
     "output_type": "error",
     "traceback": [
      "\u001b[0;31m---------------------------------------------------------------------------\u001b[0m",
      "\u001b[0;31mGitCommandError\u001b[0m                           Traceback (most recent call last)",
      "\u001b[0;32m<ipython-input-37-d03ec886f9ce>\u001b[0m in \u001b[0;36m<module>\u001b[0;34m\u001b[0m\n\u001b[1;32m      2\u001b[0m \u001b[0mfiles_to_add\u001b[0m \u001b[0;34m=\u001b[0m \u001b[0;34m[\u001b[0m\u001b[0;34m'main.ipynb'\u001b[0m\u001b[0;34m,\u001b[0m\u001b[0;34m'fetch_data.py'\u001b[0m\u001b[0;34m,\u001b[0m\u001b[0;34m'serving.yaml'\u001b[0m\u001b[0;34m,\u001b[0m\u001b[0;34m'trainer.py'\u001b[0m\u001b[0;34m,\u001b[0m\u001b[0;34m'workflow.py'\u001b[0m\u001b[0;34m,\u001b[0m\u001b[0;34m'test.txt'\u001b[0m\u001b[0;34m]\u001b[0m\u001b[0;34m\u001b[0m\u001b[0;34m\u001b[0m\u001b[0m\n\u001b[1;32m      3\u001b[0m \u001b[0;31m# Save the project state and commit/push updates to the remote git repo with all the files in files_to_add\u001b[0m\u001b[0;34m\u001b[0m\u001b[0;34m\u001b[0m\u001b[0;34m\u001b[0m\u001b[0m\n\u001b[0;32m----> 4\u001b[0;31m \u001b[0mproject\u001b[0m\u001b[0;34m.\u001b[0m\u001b[0mpush\u001b[0m\u001b[0;34m(\u001b[0m\u001b[0mbranch\u001b[0m\u001b[0;34m=\u001b[0m\u001b[0;34m'master'\u001b[0m\u001b[0;34m,\u001b[0m\u001b[0mmessage\u001b[0m\u001b[0;34m=\u001b[0m\u001b[0;34m'project with a workflow'\u001b[0m\u001b[0;34m,\u001b[0m\u001b[0madd\u001b[0m\u001b[0;34m=\u001b[0m\u001b[0mfiles_to_add\u001b[0m\u001b[0;34m)\u001b[0m\u001b[0;34m\u001b[0m\u001b[0;34m\u001b[0m\u001b[0m\n\u001b[0m",
      "\u001b[0;32m/opt/conda/lib/python3.8/site-packages/mlrun/projects/project.py\u001b[0m in \u001b[0;36mpush\u001b[0;34m(self, branch, message, update, remote, add)\u001b[0m\n\u001b[1;32m   1750\u001b[0m         \u001b[0;32mif\u001b[0m \u001b[0;32mnot\u001b[0m \u001b[0mbranch\u001b[0m\u001b[0;34m:\u001b[0m\u001b[0;34m\u001b[0m\u001b[0;34m\u001b[0m\u001b[0m\n\u001b[1;32m   1751\u001b[0m             \u001b[0;32mraise\u001b[0m \u001b[0mValueError\u001b[0m\u001b[0;34m(\u001b[0m\u001b[0;34m\"please specify the remote branch\"\u001b[0m\u001b[0;34m)\u001b[0m\u001b[0;34m\u001b[0m\u001b[0;34m\u001b[0m\u001b[0m\n\u001b[0;32m-> 1752\u001b[0;31m         \u001b[0mrepo\u001b[0m\u001b[0;34m.\u001b[0m\u001b[0mgit\u001b[0m\u001b[0;34m.\u001b[0m\u001b[0mpush\u001b[0m\u001b[0;34m(\u001b[0m\u001b[0mremote\u001b[0m \u001b[0;32mor\u001b[0m \u001b[0;34m\"origin\"\u001b[0m\u001b[0;34m,\u001b[0m \u001b[0mbranch\u001b[0m\u001b[0;34m)\u001b[0m\u001b[0;34m\u001b[0m\u001b[0;34m\u001b[0m\u001b[0m\n\u001b[0m\u001b[1;32m   1753\u001b[0m \u001b[0;34m\u001b[0m\u001b[0m\n\u001b[1;32m   1754\u001b[0m     \u001b[0;32mdef\u001b[0m \u001b[0msync_functions\u001b[0m\u001b[0;34m(\u001b[0m\u001b[0mself\u001b[0m\u001b[0;34m,\u001b[0m \u001b[0mnames\u001b[0m\u001b[0;34m:\u001b[0m \u001b[0mlist\u001b[0m \u001b[0;34m=\u001b[0m \u001b[0;32mNone\u001b[0m\u001b[0;34m,\u001b[0m \u001b[0malways\u001b[0m\u001b[0;34m=\u001b[0m\u001b[0;32mTrue\u001b[0m\u001b[0;34m,\u001b[0m \u001b[0msave\u001b[0m\u001b[0;34m=\u001b[0m\u001b[0;32mFalse\u001b[0m\u001b[0;34m)\u001b[0m\u001b[0;34m:\u001b[0m\u001b[0;34m\u001b[0m\u001b[0;34m\u001b[0m\u001b[0m\n",
      "\u001b[0;32m/opt/conda/lib/python3.8/site-packages/git/cmd.py\u001b[0m in \u001b[0;36m<lambda>\u001b[0;34m(*args, **kwargs)\u001b[0m\n\u001b[1;32m    739\u001b[0m         \u001b[0;32mif\u001b[0m \u001b[0mname\u001b[0m\u001b[0;34m[\u001b[0m\u001b[0;36m0\u001b[0m\u001b[0;34m]\u001b[0m \u001b[0;34m==\u001b[0m \u001b[0;34m\"_\"\u001b[0m\u001b[0;34m:\u001b[0m\u001b[0;34m\u001b[0m\u001b[0;34m\u001b[0m\u001b[0m\n\u001b[1;32m    740\u001b[0m             \u001b[0;32mreturn\u001b[0m \u001b[0mLazyMixin\u001b[0m\u001b[0;34m.\u001b[0m\u001b[0m__getattr__\u001b[0m\u001b[0;34m(\u001b[0m\u001b[0mself\u001b[0m\u001b[0;34m,\u001b[0m \u001b[0mname\u001b[0m\u001b[0;34m)\u001b[0m\u001b[0;34m\u001b[0m\u001b[0;34m\u001b[0m\u001b[0m\n\u001b[0;32m--> 741\u001b[0;31m         \u001b[0;32mreturn\u001b[0m \u001b[0;32mlambda\u001b[0m \u001b[0;34m*\u001b[0m\u001b[0margs\u001b[0m\u001b[0;34m,\u001b[0m \u001b[0;34m**\u001b[0m\u001b[0mkwargs\u001b[0m\u001b[0;34m:\u001b[0m \u001b[0mself\u001b[0m\u001b[0;34m.\u001b[0m\u001b[0m_call_process\u001b[0m\u001b[0;34m(\u001b[0m\u001b[0mname\u001b[0m\u001b[0;34m,\u001b[0m \u001b[0;34m*\u001b[0m\u001b[0margs\u001b[0m\u001b[0;34m,\u001b[0m \u001b[0;34m**\u001b[0m\u001b[0mkwargs\u001b[0m\u001b[0;34m)\u001b[0m\u001b[0;34m\u001b[0m\u001b[0;34m\u001b[0m\u001b[0m\n\u001b[0m\u001b[1;32m    742\u001b[0m \u001b[0;34m\u001b[0m\u001b[0m\n\u001b[1;32m    743\u001b[0m     \u001b[0;32mdef\u001b[0m \u001b[0mset_persistent_git_options\u001b[0m\u001b[0;34m(\u001b[0m\u001b[0mself\u001b[0m\u001b[0;34m,\u001b[0m \u001b[0;34m**\u001b[0m\u001b[0mkwargs\u001b[0m\u001b[0;34m:\u001b[0m \u001b[0mAny\u001b[0m\u001b[0;34m)\u001b[0m \u001b[0;34m->\u001b[0m \u001b[0;32mNone\u001b[0m\u001b[0;34m:\u001b[0m\u001b[0;34m\u001b[0m\u001b[0;34m\u001b[0m\u001b[0m\n",
      "\u001b[0;32m/opt/conda/lib/python3.8/site-packages/git/cmd.py\u001b[0m in \u001b[0;36m_call_process\u001b[0;34m(self, method, *args, **kwargs)\u001b[0m\n\u001b[1;32m   1313\u001b[0m         \u001b[0mcall\u001b[0m\u001b[0;34m.\u001b[0m\u001b[0mextend\u001b[0m\u001b[0;34m(\u001b[0m\u001b[0margs_list\u001b[0m\u001b[0;34m)\u001b[0m\u001b[0;34m\u001b[0m\u001b[0;34m\u001b[0m\u001b[0m\n\u001b[1;32m   1314\u001b[0m \u001b[0;34m\u001b[0m\u001b[0m\n\u001b[0;32m-> 1315\u001b[0;31m         \u001b[0;32mreturn\u001b[0m \u001b[0mself\u001b[0m\u001b[0;34m.\u001b[0m\u001b[0mexecute\u001b[0m\u001b[0;34m(\u001b[0m\u001b[0mcall\u001b[0m\u001b[0;34m,\u001b[0m \u001b[0;34m**\u001b[0m\u001b[0mexec_kwargs\u001b[0m\u001b[0;34m)\u001b[0m\u001b[0;34m\u001b[0m\u001b[0;34m\u001b[0m\u001b[0m\n\u001b[0m\u001b[1;32m   1316\u001b[0m \u001b[0;34m\u001b[0m\u001b[0m\n\u001b[1;32m   1317\u001b[0m     \u001b[0;32mdef\u001b[0m \u001b[0m_parse_object_header\u001b[0m\u001b[0;34m(\u001b[0m\u001b[0mself\u001b[0m\u001b[0;34m,\u001b[0m \u001b[0mheader_line\u001b[0m\u001b[0;34m:\u001b[0m \u001b[0mstr\u001b[0m\u001b[0;34m)\u001b[0m \u001b[0;34m->\u001b[0m \u001b[0mTuple\u001b[0m\u001b[0;34m[\u001b[0m\u001b[0mstr\u001b[0m\u001b[0;34m,\u001b[0m \u001b[0mstr\u001b[0m\u001b[0;34m,\u001b[0m \u001b[0mint\u001b[0m\u001b[0;34m]\u001b[0m\u001b[0;34m:\u001b[0m\u001b[0;34m\u001b[0m\u001b[0;34m\u001b[0m\u001b[0m\n",
      "\u001b[0;32m/opt/conda/lib/python3.8/site-packages/git/cmd.py\u001b[0m in \u001b[0;36mexecute\u001b[0;34m(self, command, istream, with_extended_output, with_exceptions, as_process, output_stream, stdout_as_string, kill_after_timeout, with_stdout, universal_newlines, shell, env, max_chunk_size, strip_newline_in_stdout, **subprocess_kwargs)\u001b[0m\n\u001b[1;32m   1107\u001b[0m \u001b[0;34m\u001b[0m\u001b[0m\n\u001b[1;32m   1108\u001b[0m         \u001b[0;32mif\u001b[0m \u001b[0mwith_exceptions\u001b[0m \u001b[0;32mand\u001b[0m \u001b[0mstatus\u001b[0m \u001b[0;34m!=\u001b[0m \u001b[0;36m0\u001b[0m\u001b[0;34m:\u001b[0m\u001b[0;34m\u001b[0m\u001b[0;34m\u001b[0m\u001b[0m\n\u001b[0;32m-> 1109\u001b[0;31m             \u001b[0;32mraise\u001b[0m \u001b[0mGitCommandError\u001b[0m\u001b[0;34m(\u001b[0m\u001b[0mredacted_command\u001b[0m\u001b[0;34m,\u001b[0m \u001b[0mstatus\u001b[0m\u001b[0;34m,\u001b[0m \u001b[0mstderr_value\u001b[0m\u001b[0;34m,\u001b[0m \u001b[0mstdout_value\u001b[0m\u001b[0;34m)\u001b[0m\u001b[0;34m\u001b[0m\u001b[0;34m\u001b[0m\u001b[0m\n\u001b[0m\u001b[1;32m   1110\u001b[0m \u001b[0;34m\u001b[0m\u001b[0m\n\u001b[1;32m   1111\u001b[0m         \u001b[0;32mif\u001b[0m \u001b[0misinstance\u001b[0m\u001b[0;34m(\u001b[0m\u001b[0mstdout_value\u001b[0m\u001b[0;34m,\u001b[0m \u001b[0mbytes\u001b[0m\u001b[0;34m)\u001b[0m \u001b[0;32mand\u001b[0m \u001b[0mstdout_as_string\u001b[0m\u001b[0;34m:\u001b[0m  \u001b[0;31m# could also be output_stream\u001b[0m\u001b[0;34m\u001b[0m\u001b[0;34m\u001b[0m\u001b[0m\n",
      "\u001b[0;31mGitCommandError\u001b[0m: Cmd('git') failed due to: exit code(128)\n  cmdline: git push origin master\n  stderr: 'remote: Permission to GiladShapira94/test_push.git denied to yevgenykhazan.\nfatal: unable to access 'https://github.com/GiladShapira94/test_push.git/': The requested URL returned error: 403'"
     ]
    }
   ],
   "source": [
    "# by default project.push pushes the project.yaml, so there is no need to include it in files_to_add\n",
    "files_to_add = ['main.ipynb','fetch_data.py','serving.yaml','trainer.py','workflow.py','test.txt']\n",
    "# Save the project state and commit/push updates to the remote git repo with all the files in files_to_add\n",
    "project.push(branch='master',message='project with a workflow',add=files_to_add)"
   ]
  },
  {
   "cell_type": "markdown",
   "id": "838354d0",
   "metadata": {},
   "source": [
    "Congratulations! You've successfully pushed your poject to git"
   ]
  },
  {
   "cell_type": "code",
   "execution_count": null,
   "id": "64e6e525",
   "metadata": {},
   "outputs": [],
   "source": [
    "# Is needed if the remote code changed after my push (e.g a team is working on the same branch)\n",
    "project.pull(\"my_git_project\") "
   ]
  },
  {
   "cell_type": "markdown",
   "id": "127d1b62",
   "metadata": {},
   "source": [
    "Congratulations! You've successfully pulled your poject from git"
   ]
  }
 ],
 "metadata": {
  "kernelspec": {
   "display_name": "Python 3",
   "language": "python",
   "name": "python3"
  },
  "language_info": {
   "codemirror_mode": {
    "name": "ipython",
    "version": 3
   },
   "file_extension": ".py",
   "mimetype": "text/x-python",
   "name": "python",
   "nbconvert_exporter": "python",
   "pygments_lexer": "ipython3",
   "version": "3.8.8"
  }
 },
 "nbformat": 4,
 "nbformat_minor": 5
}
