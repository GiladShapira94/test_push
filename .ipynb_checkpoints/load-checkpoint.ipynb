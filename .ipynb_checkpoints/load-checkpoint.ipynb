{
 "cells": [
  {
   "cell_type": "code",
   "execution_count": 4,
   "id": "a5088a17",
   "metadata": {},
   "outputs": [],
   "source": [
    "import mlrun"
   ]
  },
  {
   "cell_type": "code",
   "execution_count": 8,
   "id": "ac56aaa1",
   "metadata": {},
   "outputs": [],
   "source": [
    "# Define the link to the project source in git\n",
    "git_source = 'git://github.com/GiladShapira94/test_push.git'"
   ]
  },
  {
   "cell_type": "code",
   "execution_count": 18,
   "id": "4f049e63",
   "metadata": {},
   "outputs": [
    {
     "name": "stdout",
     "output_type": "stream",
     "text": [
      "kind: project\n",
      "metadata:\n",
      "  name: ci-cd-load\n",
      "spec:\n",
      "  functions:\n",
      "  - url: fetch_data.py\n",
      "    name: fetch_data\n",
      "    kind: job\n",
      "    image: mlrun/mlrun\n",
      "    handler: fetch_data\n",
      "  - url: trainer.py\n",
      "    name: trainer\n",
      "    kind: job\n",
      "    image: mlrun/mlrun\n",
      "    handler: train\n",
      "  - url: serving.yaml\n",
      "    name: serving\n",
      "    kind: serving\n",
      "  workflows:\n",
      "  - path: ./workflow.py\n",
      "    name: main\n",
      "  artifacts:\n",
      "  - kind: dataset\n",
      "    metadata:\n",
      "      project: new-git-project\n",
      "      key: data\n",
      "    spec:\n",
      "      target_path: https://s3.wasabisys.com/iguazio/data/iris/iris.data.raw.csv\n",
      "      format: ''\n",
      "    status:\n",
      "      state: created\n",
      "  - kind: model\n",
      "    metadata:\n",
      "      project: new-git-project\n",
      "      key: model\n",
      "    spec:\n",
      "      target_path: s3://mlrun/projects/new-git-proj/artifacts/trainer-train/0/model/\n",
      "      model_file: iris_model.pkl\n",
      "    status:\n",
      "      state: created\n",
      "  source: git://github.com/GiladShapira94/test_push.git\n",
      "  origin_url: git://github.com/GiladShapira94/test_push.git\n",
      "  desired_state: online\n",
      "\n"
     ]
    }
   ],
   "source": [
    "print(project.to_yaml())"
   ]
  },
  {
   "cell_type": "code",
   "execution_count": 19,
   "id": "ff007281",
   "metadata": {},
   "outputs": [],
   "source": [
    "data_art = project.get_artifact('data')"
   ]
  },
  {
   "cell_type": "code",
   "execution_count": 20,
   "id": "67cc5985",
   "metadata": {},
   "outputs": [
    {
     "name": "stdout",
     "output_type": "stream",
     "text": [
      "kind: dataset\n",
      "metadata:\n",
      "  key: data\n",
      "  project: ci-cd-load\n",
      "  iter: 0\n",
      "  tree: b9e05d0348fa8116e8143759841d163ab8183a31\n",
      "  tag: latest\n",
      "  updated: '2023-03-07T13:13:31.450357+00:00'\n",
      "spec:\n",
      "  target_path: https://s3.wasabisys.com/iguazio/data/iris/iris.data.raw.csv\n",
      "  format: ''\n",
      "  db_key: data\n",
      "  producer:\n",
      "    kind: project\n",
      "    name: ci-cd-load\n",
      "    tag: b9e05d0348fa8116e8143759841d163ab8183a31\n",
      "  sources: []\n",
      "  license: ''\n",
      "status:\n",
      "  state: created\n",
      "\n"
     ]
    }
   ],
   "source": [
    "print(data_art.to_yaml())"
   ]
  },
  {
   "cell_type": "code",
   "execution_count": 9,
   "id": "f4f931a1",
   "metadata": {},
   "outputs": [],
   "source": [
    "#Load the project from the Git URL, specified by a new name (ci-cd-load) and put it in the project_context directory\n",
    "project = mlrun.load_project(name='ci-cd-load',context='./project_context',url = git_source,clone=True)\n",
    "# Alternaticely pull the latest code from git with project.pull(\"my_git_project\")  "
   ]
  },
  {
   "cell_type": "code",
   "execution_count": 10,
   "id": "bbb2408b",
   "metadata": {},
   "outputs": [],
   "source": [
    "# project.set_source(source=git_source,pull_at_runtime=True)"
   ]
  },
  {
   "cell_type": "code",
   "execution_count": 11,
   "id": "66479415",
   "metadata": {},
   "outputs": [],
   "source": [
    "# Check that the project loaded properly\n",
    "# print(project.to_yaml())"
   ]
  },
  {
   "cell_type": "code",
   "execution_count": 12,
   "id": "64e7a647",
   "metadata": {},
   "outputs": [],
   "source": [
    "# Before running the main workflow we need to prepare the dataset and model arguments\n",
    "dataset = project.get_artifact('data')\n",
    "model = project.get_artifact('model')"
   ]
  },
  {
   "cell_type": "code",
   "execution_count": 13,
   "id": "a22ed169",
   "metadata": {},
   "outputs": [],
   "source": [
    "# df = dataset.to_dataitem().as_df()"
   ]
  },
  {
   "cell_type": "code",
   "execution_count": 14,
   "id": "f8249336",
   "metadata": {},
   "outputs": [],
   "source": [
    "# fetch_data_run = project.run_function('fetch_data',inputs={'dataset': dataset.uri})"
   ]
  },
  {
   "cell_type": "code",
   "execution_count": 15,
   "id": "c994b555",
   "metadata": {},
   "outputs": [],
   "source": [
    "data_url = 'https://s3.wasabisys.com/iguazio/data/iris/iris.data.raw.csv'"
   ]
  },
  {
   "cell_type": "code",
   "execution_count": 16,
   "id": "b557d6be",
   "metadata": {},
   "outputs": [
    {
     "data": {
      "text/plain": [
       "'\\ntrainer_run = project.run_function(\"trainer\",\\n        inputs={\"dataset\": data_url},\\n        params = {\\n            \"model_class\": \"sklearn.ensemble.RandomForestClassifier\",\\n            \"train_test_split_size\": 0.2,\\n            \"label_columns\": \"label\",\\n            \"model_name\":\\'iris_model\\'}, handler=\\'train\\')\\n'"
      ]
     },
     "execution_count": 16,
     "metadata": {},
     "output_type": "execute_result"
    }
   ],
   "source": [
    "'''\n",
    "trainer_run = project.run_function(\"trainer\",\n",
    "        inputs={\"dataset\": data_url},\n",
    "        params = {\n",
    "            \"model_class\": \"sklearn.ensemble.RandomForestClassifier\",\n",
    "            \"train_test_split_size\": 0.2,\n",
    "            \"label_columns\": \"label\",\n",
    "            \"model_name\":'iris_model'}, handler='train')\n",
    "'''"
   ]
  },
  {
   "cell_type": "code",
   "execution_count": 17,
   "id": "dd104de1",
   "metadata": {},
   "outputs": [
    {
     "data": {
      "text/html": [
       "<div>Pipeline running (id=27fef378-5509-4a7a-8479-cce6bded3361), <a href=\"https://dashboard.default-tenant.app.cust-cs-il-3-5-2.iguazio-cd2.com/mlprojects/ci-cd-load/jobs/monitor-workflows/workflow/27fef378-5509-4a7a-8479-cce6bded3361\" target=\"_blank\"><b>click here</b></a> to view the details in MLRun UI</div>"
      ],
      "text/plain": [
       "<IPython.core.display.HTML object>"
      ]
     },
     "metadata": {},
     "output_type": "display_data"
    },
    {
     "data": {
      "image/svg+xml": [
       "<?xml version=\"1.0\" encoding=\"UTF-8\" standalone=\"no\"?>\n",
       "<!DOCTYPE svg PUBLIC \"-//W3C//DTD SVG 1.1//EN\"\n",
       " \"http://www.w3.org/Graphics/SVG/1.1/DTD/svg11.dtd\">\n",
       "<!-- Generated by graphviz version 2.40.1 (20161225.0304)\n",
       " -->\n",
       "<!-- Title: kfp Pages: 1 -->\n",
       "<svg width=\"144pt\" height=\"188pt\"\n",
       " viewBox=\"0.00 0.00 144.49 188.00\" xmlns=\"http://www.w3.org/2000/svg\" xmlns:xlink=\"http://www.w3.org/1999/xlink\">\n",
       "<g id=\"graph0\" class=\"graph\" transform=\"scale(1 1) rotate(0) translate(4 184)\">\n",
       "<title>kfp</title>\n",
       "<polygon fill=\"#ffffff\" stroke=\"transparent\" points=\"-4,4 -4,-184 140.4879,-184 140.4879,4 -4,4\"/>\n",
       "<!-- iris&#45;git&#45;demo&#45;wl5ns&#45;3161568137 -->\n",
       "<g id=\"node1\" class=\"node\">\n",
       "<title>iris&#45;git&#45;demo&#45;wl5ns&#45;3161568137</title>\n",
       "<ellipse fill=\"#00ff00\" stroke=\"#000000\" cx=\"68.2439\" cy=\"-90\" rx=\"68.4888\" ry=\"18\"/>\n",
       "<text text-anchor=\"middle\" x=\"68.2439\" y=\"-86.3\" font-family=\"Times,serif\" font-size=\"14.00\" fill=\"#000000\">trainer&#45;train</text>\n",
       "</g>\n",
       "<!-- iris&#45;git&#45;demo&#45;wl5ns&#45;4144085499 -->\n",
       "<g id=\"node2\" class=\"node\">\n",
       "<title>iris&#45;git&#45;demo&#45;wl5ns&#45;4144085499</title>\n",
       "<polygon fill=\"#00ff00\" stroke=\"#000000\" points=\"129.2439,-36 11.2439,-36 7.2439,-32 7.2439,0 125.2439,0 129.2439,-4 129.2439,-36\"/>\n",
       "<polyline fill=\"none\" stroke=\"#000000\" points=\"125.2439,-32 7.2439,-32 \"/>\n",
       "<polyline fill=\"none\" stroke=\"#000000\" points=\"125.2439,-32 125.2439,0 \"/>\n",
       "<polyline fill=\"none\" stroke=\"#000000\" points=\"125.2439,-32 129.2439,-36 \"/>\n",
       "<text text-anchor=\"middle\" x=\"68.2439\" y=\"-14.3\" font-family=\"Times,serif\" font-size=\"14.00\" fill=\"#000000\">deploy&#45;serving</text>\n",
       "</g>\n",
       "<!-- iris&#45;git&#45;demo&#45;wl5ns&#45;3161568137&#45;&gt;iris&#45;git&#45;demo&#45;wl5ns&#45;4144085499 -->\n",
       "<g id=\"edge1\" class=\"edge\">\n",
       "<title>iris&#45;git&#45;demo&#45;wl5ns&#45;3161568137&#45;&gt;iris&#45;git&#45;demo&#45;wl5ns&#45;4144085499</title>\n",
       "<path fill=\"none\" stroke=\"#000000\" d=\"M68.2439,-71.8314C68.2439,-64.131 68.2439,-54.9743 68.2439,-46.4166\"/>\n",
       "<polygon fill=\"#000000\" stroke=\"#000000\" points=\"71.744,-46.4132 68.2439,-36.4133 64.744,-46.4133 71.744,-46.4132\"/>\n",
       "</g>\n",
       "<!-- iris&#45;git&#45;demo&#45;wl5ns&#45;8704178 -->\n",
       "<g id=\"node3\" class=\"node\">\n",
       "<title>iris&#45;git&#45;demo&#45;wl5ns&#45;8704178</title>\n",
       "<ellipse fill=\"#00ff00\" stroke=\"#000000\" cx=\"68.2439\" cy=\"-162\" rx=\"57.6901\" ry=\"18\"/>\n",
       "<text text-anchor=\"middle\" x=\"68.2439\" y=\"-158.3\" font-family=\"Times,serif\" font-size=\"14.00\" fill=\"#000000\">fetch&#45;data</text>\n",
       "</g>\n",
       "<!-- iris&#45;git&#45;demo&#45;wl5ns&#45;8704178&#45;&gt;iris&#45;git&#45;demo&#45;wl5ns&#45;3161568137 -->\n",
       "<g id=\"edge2\" class=\"edge\">\n",
       "<title>iris&#45;git&#45;demo&#45;wl5ns&#45;8704178&#45;&gt;iris&#45;git&#45;demo&#45;wl5ns&#45;3161568137</title>\n",
       "<path fill=\"none\" stroke=\"#000000\" d=\"M68.2439,-143.8314C68.2439,-136.131 68.2439,-126.9743 68.2439,-118.4166\"/>\n",
       "<polygon fill=\"#000000\" stroke=\"#000000\" points=\"71.744,-118.4132 68.2439,-108.4133 64.744,-118.4133 71.744,-118.4132\"/>\n",
       "</g>\n",
       "</g>\n",
       "</svg>\n"
      ],
      "text/plain": [
       "<graphviz.graphs.Digraph at 0x7fafdb86ffd0>"
      ]
     },
     "metadata": {},
     "output_type": "display_data"
    },
    {
     "data": {
      "text/html": [
       "<h2>Run Results</h2><h3>[info] Workflow 27fef378-5509-4a7a-8479-cce6bded3361 finished, state=Succeeded</h3><br>click the hyper links below to see detailed results<br><table border=\"1\" class=\"dataframe\">\n",
       "  <thead>\n",
       "    <tr style=\"text-align: right;\">\n",
       "      <th>uid</th>\n",
       "      <th>start</th>\n",
       "      <th>state</th>\n",
       "      <th>name</th>\n",
       "      <th>parameters</th>\n",
       "      <th>results</th>\n",
       "    </tr>\n",
       "  </thead>\n",
       "  <tbody>\n",
       "    <tr>\n",
       "      <td><div title=\"5f5628b8c87044fd8519ca3fb9a3df92\"><a href=\"https://dashboard.default-tenant.app.cust-cs-il-3-5-2.iguazio-cd2.com/mlprojects/ci-cd-load/jobs/monitor/5f5628b8c87044fd8519ca3fb9a3df92/overview\" target=\"_blank\" >...b9a3df92</a></div></td>\n",
       "      <td>Mar 07 13:15:46</td>\n",
       "      <td>completed</td>\n",
       "      <td>trainer-train</td>\n",
       "      <td><div class=\"dictlist\">model_class=sklearn.ensemble.RandomForestClassifier</div><div class=\"dictlist\">train_test_split_size=0.2</div><div class=\"dictlist\">label_columns=label</div><div class=\"dictlist\">model_name=iris_model</div></td>\n",
       "      <td><div class=\"dictlist\">accuracy=1.0</div><div class=\"dictlist\">f1_score=1.0</div><div class=\"dictlist\">precision_score=1.0</div><div class=\"dictlist\">recall_score=1.0</div><div class=\"dictlist\">auc-micro=1.0</div><div class=\"dictlist\">auc-macro=1.0</div><div class=\"dictlist\">auc-weighted=1.0</div></td>\n",
       "    </tr>\n",
       "    <tr>\n",
       "      <td><div title=\"ceac38abce3047a6bb544b51638a3d0c\"><a href=\"https://dashboard.default-tenant.app.cust-cs-il-3-5-2.iguazio-cd2.com/mlprojects/ci-cd-load/jobs/monitor/ceac38abce3047a6bb544b51638a3d0c/overview\" target=\"_blank\" >...638a3d0c</a></div></td>\n",
       "      <td>Mar 07 13:15:27</td>\n",
       "      <td>completed</td>\n",
       "      <td>fetch-data</td>\n",
       "      <td></td>\n",
       "      <td><div class=\"dictlist\">label_column=label</div></td>\n",
       "    </tr>\n",
       "  </tbody>\n",
       "</table>"
      ],
      "text/plain": [
       "<IPython.core.display.HTML object>"
      ]
     },
     "metadata": {},
     "output_type": "display_data"
    },
    {
     "data": {
      "text/plain": [
       "27fef378-5509-4a7a-8479-cce6bded3361"
      ]
     },
     "execution_count": 17,
     "metadata": {},
     "output_type": "execute_result"
    }
   ],
   "source": [
    "project.run(\"main\", arguments={'dataset_uri': dataset.uri, 'model_name': \"iris_model\"},watch=True)  # run the workflow \"main\""
   ]
  },
  {
   "cell_type": "code",
   "execution_count": null,
   "id": "a0ab95fb",
   "metadata": {},
   "outputs": [],
   "source": []
  }
 ],
 "metadata": {
  "kernelspec": {
   "display_name": "Python 3 (ipykernel)",
   "language": "python",
   "name": "python3"
  },
  "language_info": {
   "codemirror_mode": {
    "name": "ipython",
    "version": 3
   },
   "file_extension": ".py",
   "mimetype": "text/x-python",
   "name": "python",
   "nbconvert_exporter": "python",
   "pygments_lexer": "ipython3",
   "version": "3.7.6"
  }
 },
 "nbformat": 4,
 "nbformat_minor": 5
}
